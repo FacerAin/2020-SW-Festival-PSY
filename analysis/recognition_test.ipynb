{
 "metadata": {
  "language_info": {
   "codemirror_mode": {
    "name": "ipython",
    "version": 3
   },
   "file_extension": ".py",
   "mimetype": "text/x-python",
   "name": "python",
   "nbconvert_exporter": "python",
   "pygments_lexer": "ipython3",
   "version": "3.8.3-final"
  },
  "orig_nbformat": 2,
  "kernelspec": {
   "name": "python3",
   "display_name": "Python 3"
  }
 },
 "nbformat": 4,
 "nbformat_minor": 2,
 "cells": [
  {
   "cell_type": "code",
   "execution_count": 61,
   "metadata": {},
   "outputs": [
    {
     "output_type": "stream",
     "name": "stdout",
     "text": [
      "del\n",
      "del\n",
      "del\n",
      "The autoreload extension is already loaded. To reload it, use:\n",
      "  %reload_ext autoreload\n"
     ]
    }
   ],
   "source": [
    "#Reload For testing\n",
    "%load_ext autoreload\n",
    "%autoreload 2\n",
    "\n",
    "import recognition\n",
    "import cv2\n",
    "import scene_detect as sd"
   ]
  },
  {
   "cell_type": "code",
   "execution_count": 66,
   "metadata": {
    "tags": []
   },
   "outputs": [
    {
     "output_type": "stream",
     "name": "stdout",
     "text": [
      "EYE_CLOSE\n",
      "EYE_CLOSE\n",
      "EYE_CLOSE\n",
      "EYE_CLOSE\n",
      "EYE_CLOSE\n",
      "EYE_CLOSE\n",
      "fps\n",
      "HEAD\n",
      "HEAD\n",
      "HEAD\n",
      "HEAD\n",
      "HEAD\n",
      "HEAD\n",
      "HEAD\n",
      "HEAD\n",
      "EYE_CLOSE\n",
      "EYE_CLOSE\n",
      "HEAD\n",
      "EYE_CLOSE\n",
      "HEAD\n",
      "EYE_CLOSE\n",
      "HEAD\n",
      "HEAD\n",
      "EYE_CLOSE\n",
      "EYE_CLOSE\n",
      "HEAD\n",
      "EYE_CLOSE\n",
      "EYE_CLOSE\n",
      "HEAD\n",
      "HEAD\n",
      "HEAD\n",
      "fps\n",
      "HEAD\n",
      "HEAD\n",
      "HEAD\n",
      "HEAD\n",
      "HEAD\n",
      "HEAD\n",
      "HEAD\n",
      "HEAD\n",
      "HEAD\n",
      "HEAD\n",
      "HEAD\n",
      "HEAD\n",
      "HEAD\n",
      "HEAD\n",
      "HEAD\n",
      "HEAD\n",
      "HEAD\n",
      "HEAD\n",
      "EYE_CLOSE\n",
      "HEAD\n",
      "EYE_CLOSE\n",
      "HEAD\n",
      "EYE_CLOSE\n",
      "HEAD\n",
      "EYE_CLOSE\n",
      "HEAD\n",
      "EYE_CLOSE\n",
      "HEAD\n",
      "EYE_CLOSE\n",
      "HEAD\n",
      "HEAD\n",
      "EYE_CLOSE\n",
      "HEAD\n",
      "EYE_CLOSE\n",
      "HEAD\n",
      "fps\n",
      "EYE_CLOSE\n",
      "HEAD\n",
      "EYE_CLOSE\n",
      "HEAD\n",
      "HEAD\n",
      "HEAD\n",
      "HEAD\n",
      "HEAD\n",
      "HEAD\n",
      "HEAD\n",
      "HEAD\n",
      "HEAD\n",
      "HEAD\n",
      "HEAD\n",
      "HEAD\n",
      "HEAD\n",
      "HEAD\n",
      "HEAD\n",
      "fps\n",
      "HEAD\n",
      "HEAD\n",
      "HEAD\n",
      "HEAD\n",
      "HEAD\n",
      "HEAD\n",
      "HEAD\n",
      "HEAD\n",
      "HEAD\n",
      "HEAD\n",
      "HEAD\n",
      "HEAD\n",
      "HEAD\n",
      "HEAD\n",
      "HEAD\n",
      "HEAD\n",
      "HEAD\n",
      "HEAD\n",
      "HEAD\n",
      "HEAD\n",
      "HEAD\n",
      "HEAD\n",
      "HEAD\n",
      "EYE_CLOSE\n",
      "HEAD\n",
      "EYE_CLOSE\n",
      "fps\n",
      "fps\n",
      "EYE_CLOSE\n",
      "EYE_CLOSE\n",
      "fps\n",
      "fps\n",
      "fps\n",
      "EYE_CLOSE\n",
      "EYE_CLOSE\n",
      "EYE_CLOSE\n",
      "EYE_CLOSE\n",
      "EYE_CLOSE\n",
      "EYE_CLOSE\n",
      "EYE_CLOSE\n",
      "EYE_CLOSE\n",
      "EYE_CLOSE\n",
      "fps\n",
      "EYE_CLOSE\n",
      "EYE_CLOSE\n",
      "EYE_CLOSE\n",
      "EYE_CLOSE\n",
      "EYE_CLOSE\n",
      "EYE_CLOSE\n",
      "EYE_CLOSE\n",
      "EYE_CLOSE\n",
      "EYE_CLOSE\n",
      "EYE_CLOSE\n",
      "EYE_CLOSE\n",
      "EYE_CLOSE\n",
      "EYE_CLOSE\n",
      "EYE_CLOSE\n",
      "HEAD\n",
      "fps\n",
      "EYE_CLOSE\n",
      "EYE_CLOSE\n",
      "EYE_CLOSE\n",
      "EYE_CLOSE\n",
      "EYE_CLOSE\n",
      "EYE_CLOSE\n",
      "HEAD\n",
      "HEAD\n",
      "HEAD\n",
      "HEAD\n",
      "EYE_CLOSE\n",
      "EYE_CLOSE\n",
      "fps\n",
      "fps\n",
      "[[22, 27, 27], [21, 26, 11], [22, 27, 3], [27, 17, 12], [28, 29, 5], [29, 4, 29], [28, 1, 29], [0, 0, 29], [0, 0, 29], [1, 10, 29], [0, 13, 29], [14, 22, 25], [0, 0, 29]]\n",
      "finish\n"
     ]
    }
   ],
   "source": [
    "face_recog = recognition.Recognition(0)\n",
    "fps = face_recog.get_fps()\n",
    "#[self.EYE_OPEN, self.HEAD_DETECT, self.POSE_DETECT]\n",
    "frame_stack = [0,0,0]\n",
    "focus_list = []\n",
    "frame_num = 0\n",
    "while True:\n",
    "    ret, frame,state = face_recog.get_frame()\n",
    "    \n",
    "    if(ret):\n",
    "        frame_num += 1\n",
    "        if(frame_num == fps):\n",
    "            print('fps')\n",
    "            frame_num = 0\n",
    "            focus_list.append(frame_stack)\n",
    "            frame_stack = [0,0,0]\n",
    "        else:\n",
    "            for i in range(len(state)):\n",
    "                if(state[i]):\n",
    "                    frame_stack[i] +=1\n",
    "        cv2.imshow(\"Frame\", frame)\n",
    "        key = cv2.waitKey(1) & 0xFF\n",
    "        # if the `q` key was pressed, break from the loop\n",
    "        if key == ord(\"q\"):\n",
    "            break\n",
    "    else:\n",
    "        break\n",
    "print(focus_list)\n",
    "cv2.destroyAllWindows()\n",
    "print('finish')"
   ]
  },
  {
   "cell_type": "code",
   "execution_count": 67,
   "metadata": {},
   "outputs": [],
   "source": [
    "focus_by_dict = {}\n",
    "for i, item_list in enumerate(focus_list):\n",
    "    focus = 1\n",
    "    if(item_list[1] < fps/2):\n",
    "        focus = 0\n",
    "    elif(item_list[0] < fps/2):\n",
    "        focus = 0\n",
    "    focus_by_dict[i] = focus\n",
    "\n",
    "    \n",
    "\n",
    "\n",
    "\n"
   ]
  },
  {
   "cell_type": "code",
   "execution_count": 68,
   "metadata": {},
   "outputs": [
    {
     "output_type": "stream",
     "name": "stdout",
     "text": [
      "{0: 1, 1: 1, 2: 1, 3: 1, 4: 1, 5: 0, 6: 0, 7: 0, 8: 0, 9: 0, 10: 0, 11: 0, 12: 0}\n"
     ]
    }
   ],
   "source": [
    "print(focus_by_dict)"
   ]
  },
  {
   "cell_type": "code",
   "execution_count": 8,
   "metadata": {},
   "outputs": [
    {
     "output_type": "stream",
     "name": "stderr",
     "text": [
      " 40%|████      | 21600/53999 [01:42<02:33, 210.99frames/s]List of scenes obtained:\n",
      "00:00:00.633\n",
      "00:01:00.017\n",
      "00:01:08.300\n",
      "00:03:04.883\n",
      "00:03:07.567\n",
      "00:04:01.750\n",
      "00:04:06.117\n",
      "00:04:48.567\n",
      "00:06:00.000\n",
      "\n"
     ]
    }
   ],
   "source": [
    "scenes, timeline = sd.find_scenes('./video/test2.avi')"
   ]
  },
  {
   "cell_type": "code",
   "execution_count": 9,
   "metadata": {},
   "outputs": [
    {
     "output_type": "stream",
     "name": "stdout",
     "text": [
      "['00:00:00.633', '00:01:00.017', '00:01:08.300', '00:03:04.883', '00:03:07.567', '00:04:01.750', '00:04:06.117', '00:04:48.567', '00:06:00.000']\n"
     ]
    }
   ],
   "source": [
    "print(timeline)"
   ]
  },
  {
   "cell_type": "code",
   "execution_count": 1,
   "metadata": {},
   "outputs": [
    {
     "output_type": "error",
     "ename": "NameError",
     "evalue": "name 'scenes' is not defined",
     "traceback": [
      "\u001b[1;31m---------------------------------------------------------------------------\u001b[0m",
      "\u001b[1;31mNameError\u001b[0m                                 Traceback (most recent call last)",
      "\u001b[1;32m<ipython-input-1-753d48866608>\u001b[0m in \u001b[0;36m<module>\u001b[1;34m\u001b[0m\n\u001b[1;32m----> 1\u001b[1;33m \u001b[1;32mfor\u001b[0m \u001b[0ms\u001b[0m \u001b[1;32min\u001b[0m \u001b[0mscenes\u001b[0m\u001b[1;33m:\u001b[0m\u001b[1;33m\u001b[0m\u001b[1;33m\u001b[0m\u001b[0m\n\u001b[0m\u001b[0;32m      2\u001b[0m     \u001b[0mprint\u001b[0m\u001b[1;33m(\u001b[0m\u001b[0ms\u001b[0m\u001b[1;33m[\u001b[0m\u001b[1;36m0\u001b[0m\u001b[1;33m]\u001b[0m\u001b[1;33m)\u001b[0m\u001b[1;33m\u001b[0m\u001b[1;33m\u001b[0m\u001b[0m\n",
      "\u001b[1;31mNameError\u001b[0m: name 'scenes' is not defined"
     ]
    }
   ],
   "source": [
    "for s in scenes:\n",
    "    print(s[0])"
   ]
  },
  {
   "cell_type": "code",
   "execution_count": null,
   "metadata": {},
   "outputs": [],
   "source": []
  }
 ]
}